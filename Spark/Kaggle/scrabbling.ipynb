{
 "cells": [
  {
   "cell_type": "markdown",
   "metadata": {},
   "source": [
    "https://www.kaggle.com/code/cluysedylan/scrabbling-with-linear-regression/edit\n",
    "https://spark.apache.org/docs/latest/ml-guide.html"
   ]
  },
  {
   "cell_type": "code",
   "execution_count": null,
   "metadata": {},
   "outputs": [],
   "source": [
    "import numpy as np\n",
    "import pandas as pd\n",
    "import matplotlib.pyplot as plt\n",
    "import seaborn as sns\n",
    "from sklearn.preprocessing import LabelEncoder\n",
    "from sklearn.model_selection import train_test_split\n",
    "from sklearn.linear_model import LinearRegression\n",
    "from sklearn.metrics import mean_squared_error"
   ]
  },
  {
   "cell_type": "code",
   "execution_count": null,
   "metadata": {},
   "outputs": [],
   "source": [
    "train = pd.read_csv('/kaggle/input/scrabble-player-rating/train.csv')\n",
    "test  = pd.read_csv('/kaggle/input/scrabble-player-rating/test.csv')\n",
    "turns = pd.read_csv('/kaggle/input/scrabble-player-rating/turns.csv')\n",
    "games = pd.read_csv('/kaggle/input/scrabble-player-rating/games.csv')\n",
    "sample_submission = pd.read_csv('/kaggle/input/scrabble-player-rating/sample_submission.csv')"
   ]
  },
  {
   "cell_type": "code",
   "execution_count": null,
   "metadata": {},
   "outputs": [],
   "source": [
    "brief_df = pd.concat([train,test], axis=0)\n",
    "brief_df = brief_df.sort_values(['game_id'])\n",
    "bots     = ['BetterBot', 'STEEBot', 'HastyBot']\n",
    "user_df  = brief_df[~brief_df['nickname'].isin(bots)]\n",
    "user_df  = user_df.rename(columns={'nickname': 'user_name', 'score': 'user_score', 'rating': 'user_rating'})\n",
    "bot_df   = brief_df[brief_df['nickname'].isin(bots)]\n",
    "bot_df   = bot_df.rename(columns={'nickname': 'bot_name', 'score': 'bot_score', 'rating': 'bot_rating'})\n",
    "main_df  = pd.merge(user_df, bot_df, on='game_id')\n",
    "main_df.head()"
   ]
  },
  {
   "cell_type": "code",
   "execution_count": null,
   "metadata": {},
   "outputs": [],
   "source": [
    "main_df['user_freq'] = main_df.groupby('user_name')['user_name'].transform('count')\n",
    "encode_bots          = LabelEncoder()\n",
    "main_df['bot_name']  = encode_bots.fit_transform(main_df['bot_name'])\n",
    "main_df.head()"
   ]
  },
  {
   "cell_type": "code",
   "execution_count": null,
   "metadata": {},
   "outputs": [],
   "source": [
    "train_df = main_df[~main_df['user_rating'].isna()].reset_index(drop=True)\n",
    "train_df.head()"
   ]
  },
  {
   "cell_type": "code",
   "execution_count": null,
   "metadata": {},
   "outputs": [],
   "source": [
    "test_df  = main_df[main_df['user_rating'].isna()].reset_index(drop=True)\n",
    "test_df.head()"
   ]
  },
  {
   "cell_type": "code",
   "execution_count": null,
   "metadata": {},
   "outputs": [],
   "source": [
    "X = train_df.drop(['user_name', 'user_rating'], axis=1)\n",
    "y = train_df['user_rating'].copy()\n",
    "X_train, X_test, y_train, y_test = train_test_split(X, y, test_size=0.3, random_state=22)\n",
    "model = LinearRegression()\n",
    "model.fit(X_train, y_train)\n",
    "y_hat = model.predict(X_test)"
   ]
  },
  {
   "cell_type": "code",
   "execution_count": null,
   "metadata": {},
   "outputs": [],
   "source": [
    "MSE  = mean_squared_error(y_hat, y_test)\n",
    "RMSE = np.sqrt(MSE)\n",
    "RMSE"
   ]
  },
  {
   "cell_type": "code",
   "execution_count": null,
   "metadata": {},
   "outputs": [],
   "source": [
    "model = LinearRegression()\n",
    "model.fit(X, y)\n",
    "test_df['user_rating'] = model.predict(test_df.drop(['user_name', 'user_rating'], axis=1))\n",
    "final_sub = test_df[['game_id', 'user_rating']]\n",
    "final_sub = final_sub.rename(columns={'user_rating': 'rating'})\n",
    "final_sub.to_csv('sub_0.csv', index=False)"
   ]
  }
 ],
 "metadata": {
  "language_info": {
   "name": "python"
  },
  "orig_nbformat": 4
 },
 "nbformat": 4,
 "nbformat_minor": 2
}
